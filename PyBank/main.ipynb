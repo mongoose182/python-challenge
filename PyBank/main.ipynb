{
 "cells": [
  {
   "cell_type": "code",
   "execution_count": 1,
   "metadata": {},
   "outputs": [
    {
     "name": "stdout",
     "output_type": "stream",
     "text": [
      "Financial Analysis\n",
      "----------------------------\n",
      "total Months: 86\n",
      "Total: $38382578\n",
      "Average Change: $-2315.12\n",
      "Greatest Increase in Profits: Feb-2012 ($1926159)\n",
      "Greatest Decrease in Profits: Sep-2013 ($-2196167)\n"
     ]
    }
   ],
   "source": [
    "# import library\n",
    "import os\n",
    "import csv\n",
    "\n",
    "# joining path\n",
    "budget_data = os.path.join(\"budget_data.csv\")\n",
    "\n",
    "# open and read csv file\n",
    "with open(budget_data, newline=\"\") as csvfile:\n",
    "    csvreader = csv.reader(csvfile, delimiter = \",\")\n",
    "    csv_header = next(csvfile)\n",
    "\n",
    "    profit_loss = []\n",
    "    months = []\n",
    "\n",
    "# reading through rows after header\n",
    "    for rows in csvreader:\n",
    "        profit_loss.append(int(rows[1]))\n",
    "        months.append(rows[0])\n",
    "\n",
    "# revenue change\n",
    "    revenue_change = []\n",
    "\n",
    "    for x in range(1, len(profit_loss)):\n",
    "        revenue_change.append((int(profit_loss[x]) - int(profit_loss[x-1])))\n",
    "    \n",
    "# calculate average revenue change\n",
    "    revenue_average = sum(revenue_change) / len(revenue_change)\n",
    "\n",
    "    revenue_average = round(revenue_average, 2)\n",
    "\n",
    "# calculating total length of months        \n",
    "    total_months = len(months)\n",
    "\n",
    "    greatest_increase = max(revenue_change)\n",
    "    greatest_decrease = min(revenue_change)\n",
    "\n",
    "# printing\n",
    "    print(\"Financial Analysis\")\n",
    "\n",
    "    print(\"----------------------------\")\n",
    "\n",
    "    print(\"total Months: \" + str(total_months))\n",
    "\n",
    "    print(\"Total: \" + \"$\" + str(sum(profit_loss)))\n",
    "\n",
    "    print(\"Average Change: \" + \"$\" + str(revenue_average))\n",
    "\n",
    "    print(\"Greatest Increase in Profits: \" + str(months[revenue_change.index(max(revenue_change))+1]) + \" \" + \"($\" + str(greatest_increase) + \")\")\n",
    "\n",
    "    print(\"Greatest Decrease in Profits: \" + str(months[revenue_change.index(min(revenue_change))+1]) + \" \" + \"($\" + str(greatest_decrease) + \")\")\n",
    "\n",
    "\n",
    "# txt file output\n",
    "\n",
    "    file = open(\"output.txt\",\"w\")\n",
    "\n",
    "    file.write(\"Financial Analysis\" + \"\\n\")\n",
    "\n",
    "    file.write(\"----------------------------\" + \"\\n\")\n",
    "\n",
    "    file.write(\"total months: \" + str(total_months) + \"\\n\")\n",
    "\n",
    "    file.write(\"Total: \" + \"$\" + str(sum(profit_loss)) + \"\\n\")\n",
    "\n",
    "    file.write(\"Average change: \" + \"$\" + str(revenue_average) + \"\\n\")\n",
    "\n",
    "    file.write(\"Greatest Increase in Profits: \" + str(months[revenue_change.index(max(revenue_change))+1]) + \" \" + \"($\" + str(greatest_increase) + \")\" + \"\\n\")\n",
    "\n",
    "    file.write(\"Greatest Decrease in Profits: \" + str(months[revenue_change.index(min(revenue_change))+1]) + \" \" + \"($\" + str(greatest_decrease) + \")\" + \"\\n\")\n",
    "\n",
    "    file.close()"
   ]
  }
 ],
 "metadata": {
  "kernelspec": {
   "display_name": "Python 3",
   "language": "python",
   "name": "python3"
  },
  "language_info": {
   "codemirror_mode": {
    "name": "ipython",
    "version": 3
   },
   "file_extension": ".py",
   "mimetype": "text/x-python",
   "name": "python",
   "nbconvert_exporter": "python",
   "pygments_lexer": "ipython3",
   "version": "3.11.5"
  }
 },
 "nbformat": 4,
 "nbformat_minor": 5
}
